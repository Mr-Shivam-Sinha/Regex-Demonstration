{
 "cells": [
  {
   "cell_type": "code",
   "execution_count": null,
   "id": "fe2dd4ae-42f7-4467-8826-a75c3661d550",
   "metadata": {},
   "outputs": [],
   "source": [
    "\"\"\"\n",
    "Data: Copy the eligibility criteria for MSc Data Science, MCA, MSc Data Analytics and MSc statistics\n",
    "programs of CHRIST University from the university website as different txt documents. Perform the\n",
    "following tasks using regular expression and python\n",
    "    1. Create a dataframe which contains name of the program and list of UG degrees eligible. BSc\n",
    "       in maths major should be mentioned as BSc(Maths), Statistics major as BSc(Stats) and so on.\n",
    "    2. Change/ add the minimum percentage criteria to 70% in all the txt files"
   ]
  },
  {
   "cell_type": "code",
   "execution_count": 131,
   "id": "8ff0e832-c326-49f3-970b-acdedd3fd2f3",
   "metadata": {},
   "outputs": [],
   "source": [
    "import nltk\n",
    "import re"
   ]
  },
  {
   "cell_type": "code",
   "execution_count": 132,
   "id": "2a012934-8652-4d79-ac15-75a6fdb32137",
   "metadata": {},
   "outputs": [],
   "source": [
    "import os\n",
    "  \n",
    "# Folder Path\n",
    "path = \"C:/Users/Shivam/Desktop/nlp/LAB 1/\"\n",
    "os.chdir(path)\n",
    "  \n",
    "# Read text File\n",
    "files=[]\n",
    "  \n",
    "def read_text_file(file_path):\n",
    "    with open(file_path, 'r') as f:\n",
    "        files.append(f.read())\n",
    "  \n",
    "  \n",
    "# iterate through all file\n",
    "for file in os.listdir():\n",
    "    # Check whether file is in text format or not\n",
    "    if file.endswith(\".txt\"):\n",
    "        file_path = f\"{path}\\{file}\"\n",
    "  \n",
    "        # call read text file function\n",
    "        read_text_file(file_path)"
   ]
  },
  {
   "cell_type": "code",
   "execution_count": 133,
   "id": "7208d78d-f852-4519-955f-62ab21a1102b",
   "metadata": {},
   "outputs": [],
   "source": [
    "da=files[0]\n",
    "mca=files[1]\n",
    "mds=files[2]\n",
    "stats=files[3]"
   ]
  },
  {
   "cell_type": "code",
   "execution_count": 134,
   "id": "992c583e-18e8-4a12-b988-237bbdba7617",
   "metadata": {},
   "outputs": [
    {
     "name": "stdout",
     "output_type": "stream",
     "text": [
      "Candidates having 50% aggregate marks from any recognised University in India or abroad recognised by UGC / AIU in any of the following programmes are eligible:\n",
      "\n",
      "(i)    BSc / BE / B.Tech with Mathematics as a major or minor\n",
      "\n",
      "(ii)  BCom / BBA with Business Maths or Data Analytics as Specialization\n"
     ]
    }
   ],
   "source": [
    "print(da)"
   ]
  },
  {
   "cell_type": "code",
   "execution_count": 135,
   "id": "4d35bf5f-944b-4121-b904-933a2fa27edd",
   "metadata": {},
   "outputs": [
    {
     "name": "stdout",
     "output_type": "stream",
     "text": [
      "Candidates who have passed Undergraduate degree with a minimum aggregate of 50% and above, from any recognised University in India or abroad recognised by UGC / AIU, are eligible to apply.\n",
      "\n",
      "Students appearing for their final degree examinations in March-May 2022 are also eligible to apply (Applicants who are in the last year of their studies should have secured 50% or above aggregate in all the Semesters / Years of Undergraduate Examinations conducted so far).\n",
      "\n",
      "Applicants from non-Computer Science should have studied any of the following subjects at the Pre- University or Degree level â€“ Mathematics, Computer Science or Business Mathematics.\n"
     ]
    }
   ],
   "source": [
    "print(mca)"
   ]
  },
  {
   "cell_type": "code",
   "execution_count": 136,
   "id": "3224c2fa-df8c-438d-a970-47762796db3c",
   "metadata": {},
   "outputs": [
    {
     "name": "stdout",
     "output_type": "stream",
     "text": [
      "A candidate who has passed an Undergraduate degree in BCA/Science with 50 % aggregate marks from any recognised University in India or abroad recognised by UGC / AIU is eligible to apply.\n",
      "\n",
      "Students must fulfill either criteria A or B described below in order to be eligible for the course:\n",
      "\n",
      "     A. Bachelor of Computer Applications (BCA).\n",
      "\n",
      "OR\n",
      "\n",
      "     B. Under Graduate degree in Science with any two of the following subjects as major or minor:\n",
      "\n",
      "            1.    Computer Science\n",
      "            2.    Mathematics\n",
      "            3.    Statistics\n",
      "\n",
      "Students appearing for their final degree examinations in March-May 2022 are also eligible to apply. Applicants who are in the last year of their studies should have secured 50% or above aggregate in all the Semesters / Years of Undergraduate Examinations conducted so far.\n"
     ]
    }
   ],
   "source": [
    "print(mds)"
   ]
  },
  {
   "cell_type": "code",
   "execution_count": 137,
   "id": "0d7dd829-904b-4bfa-b8a0-da9451ed27a5",
   "metadata": {},
   "outputs": [
    {
     "name": "stdout",
     "output_type": "stream",
     "text": [
      "Candidates who have passed the Undergraduate degree examination with 50 % aggregate marks and (minimum of 50% in Statistics and Mathematics as major or minor subjects) from any recognised University in India or abroad recognised by UGC / AIU are eligible to apply.\n",
      " \n",
      "Students appearing for their final degree examinations in March-May 2022 are also eligible to apply. Applicants who are in the last year of their studies should have secured 50% or above aggregate in all the Semesters / Years of Undergraduate Examinations conducted so far and 50% of marks in (Statistics and Mathematics as major or minor subjects).\n"
     ]
    }
   ],
   "source": [
    "print(stats)"
   ]
  },
  {
   "cell_type": "code",
   "execution_count": 249,
   "id": "d9745529-a570-44ba-b8ad-035fd8dd5f2e",
   "metadata": {},
   "outputs": [
    {
     "data": {
      "text/plain": [
       "['MDA', 'MCA', 'MDS', 'MSTAT']"
      ]
     },
     "execution_count": 249,
     "metadata": {},
     "output_type": "execute_result"
    }
   ],
   "source": [
    "#course list\n",
    "course_name=['MDA','MCA','MDS','MSTAT']\n",
    "course_name"
   ]
  },
  {
   "cell_type": "code",
   "execution_count": 139,
   "id": "84921510-f199-4780-b436-19391dac79fc",
   "metadata": {},
   "outputs": [
    {
     "data": {
      "text/plain": [
       "'\\n'"
      ]
     },
     "execution_count": 139,
     "metadata": {},
     "output_type": "execute_result"
    }
   ],
   "source": [
    "\"\"\"\n",
    "\"\"\"\n",
    "\"\"\"\n",
    "Data Analytics\n",
    "\"\"\"\n",
    "\"\"\"\n",
    "\"\"\""
   ]
  },
  {
   "cell_type": "code",
   "execution_count": 140,
   "id": "b3c98574-a5aa-4cca-abb3-270ebe438ed9",
   "metadata": {},
   "outputs": [],
   "source": [
    "#global expressions\n",
    "aggr=re.compile('(?i)50%|\\s+50 %')\n",
    "el_deg=re.compile(r\"B[.a-zA-Z\\s]+\\b\")"
   ]
  },
  {
   "cell_type": "code",
   "execution_count": 141,
   "id": "e4b1cc91-eff1-42dc-9707-8c2e307502c6",
   "metadata": {},
   "outputs": [
    {
     "name": "stdout",
     "output_type": "stream",
     "text": [
      "Candidates having 50% aggregate marks from any recognised University in India or abroad recognised by UGC / AIU in any of the following programmes are eligible:\n",
      "\n",
      "(i)    BSc / BE / B.Tech with Mathematics as a major or minor\n",
      "\n",
      "(ii)  BCom / BBA with Business Maths or Data Analytics as Specialization\n"
     ]
    }
   ],
   "source": [
    "print(da)"
   ]
  },
  {
   "cell_type": "code",
   "execution_count": 142,
   "id": "481157b4-1afb-4927-b543-9f84cea291d1",
   "metadata": {},
   "outputs": [
    {
     "data": {
      "text/plain": [
       "'Candidates having 70% aggregate marks from any recognised University in India or abroad recognised by UGC / AIU in any of the following programmes are eligible:\\n\\n(i)    BSc / BE / B.Tech with Mathematics as a major or minor\\n\\n(ii)  BCom / BBA with Business Maths or Data Analytics as Specialization'"
      ]
     },
     "execution_count": 142,
     "metadata": {},
     "output_type": "execute_result"
    }
   ],
   "source": [
    "da=aggr.sub('70%', da)\n",
    "da"
   ]
  },
  {
   "cell_type": "code",
   "execution_count": 143,
   "id": "12a97070-ea38-4958-bf2b-cd42f2e96ff7",
   "metadata": {},
   "outputs": [
    {
     "data": {
      "text/plain": [
       "['BSc',\n",
       " 'BE',\n",
       " 'B.Tech with Mathematics as a major or minor',\n",
       " 'BCom',\n",
       " 'BBA with Business Maths or Data Analytics as Specialization']"
      ]
     },
     "execution_count": 143,
     "metadata": {},
     "output_type": "execute_result"
    }
   ],
   "source": [
    "dalist=[]\n",
    "dalist=el_deg.findall(da)\n",
    "dalist"
   ]
  },
  {
   "cell_type": "code",
   "execution_count": 144,
   "id": "2046292c-ab43-44fa-9b7d-d4e7ccc0225a",
   "metadata": {},
   "outputs": [],
   "source": [
    "p=dalist[4]"
   ]
  },
  {
   "cell_type": "code",
   "execution_count": 145,
   "id": "97bfe7a3-ce71-4d0f-828f-c66d30dd6013",
   "metadata": {},
   "outputs": [
    {
     "data": {
      "text/plain": [
       "['BSc', 'BE', 'B.Tech(Mathematics)', 'BCom', 'BBA(Business Maths)']"
      ]
     },
     "execution_count": 145,
     "metadata": {},
     "output_type": "execute_result"
    }
   ],
   "source": [
    "dalist[2]=re.sub(\"\\s.*\",\"(Mathematics)\",dalist[2])\n",
    "dalist[4]=re.sub(\"\\s.*\",\"(Business Maths)\",dalist[4])\n",
    "dalist"
   ]
  },
  {
   "cell_type": "code",
   "execution_count": 146,
   "id": "de5d8c10-5112-42d4-95af-d0b6420b5250",
   "metadata": {},
   "outputs": [
    {
     "data": {
      "text/plain": [
       "['BSc', 'BE', 'B.Tech(Mathematics)', 'BCom', 'BBA(Business Maths)']"
      ]
     },
     "execution_count": 146,
     "metadata": {},
     "output_type": "execute_result"
    }
   ],
   "source": [
    "dalist"
   ]
  },
  {
   "cell_type": "code",
   "execution_count": 147,
   "id": "134e9779-46cd-44fa-85f9-076f7db10793",
   "metadata": {},
   "outputs": [
    {
     "data": {
      "text/plain": [
       "['BSc', 'BE', 'B.Tech(Mathematics)', 'BCom', 'BBA(Business Maths)', 'BBA']"
      ]
     },
     "execution_count": 147,
     "metadata": {},
     "output_type": "execute_result"
    }
   ],
   "source": [
    "x=re.findall('BBA',dalist[4])\n",
    "dalist.append(x[0])\n",
    "dalist"
   ]
  },
  {
   "cell_type": "code",
   "execution_count": 148,
   "id": "c20b94c2-7b12-44fc-a1b8-14be725512db",
   "metadata": {},
   "outputs": [],
   "source": [
    "p=re.findall(\"Data Analytics\",p)"
   ]
  },
  {
   "cell_type": "code",
   "execution_count": 149,
   "id": "7ec7891b-195c-4b3f-a0dc-0fd377fcbee4",
   "metadata": {},
   "outputs": [],
   "source": [
    "dalist[5]=str(dalist[5])+\"(\"+str(p[0])+\")\""
   ]
  },
  {
   "cell_type": "code",
   "execution_count": 150,
   "id": "e8e0da74-e423-45d7-bbdc-44aa1e1ee0de",
   "metadata": {},
   "outputs": [
    {
     "data": {
      "text/plain": [
       "['BSc',\n",
       " 'BE',\n",
       " 'B.Tech(Mathematics)',\n",
       " 'BCom',\n",
       " 'BBA(Business Maths)',\n",
       " 'BBA(Data Analytics)']"
      ]
     },
     "execution_count": 150,
     "metadata": {},
     "output_type": "execute_result"
    }
   ],
   "source": [
    "dalist"
   ]
  },
  {
   "cell_type": "code",
   "execution_count": 151,
   "id": "e69ee62d-684b-46b0-a492-3cd9ab928afc",
   "metadata": {},
   "outputs": [
    {
     "data": {
      "text/plain": [
       "'\\n'"
      ]
     },
     "execution_count": 151,
     "metadata": {},
     "output_type": "execute_result"
    }
   ],
   "source": [
    "\"\"\"\n",
    "\"\"\"\n",
    "\"\"\"\n",
    "Data Science\n",
    "\"\"\"\n",
    "\"\"\"\n",
    "\"\"\""
   ]
  },
  {
   "cell_type": "code",
   "execution_count": 152,
   "id": "e81429fa-4a9b-44ec-972a-9ec63954ccf0",
   "metadata": {},
   "outputs": [
    {
     "name": "stdout",
     "output_type": "stream",
     "text": [
      "A candidate who has passed an Undergraduate degree in BCA/Science with 50 % aggregate marks from any recognised University in India or abroad recognised by UGC / AIU is eligible to apply.\n",
      "\n",
      "Students must fulfill either criteria A or B described below in order to be eligible for the course:\n",
      "\n",
      "     A. Bachelor of Computer Applications (BCA).\n",
      "\n",
      "OR\n",
      "\n",
      "     B. Under Graduate degree in Science with any two of the following subjects as major or minor:\n",
      "\n",
      "            1.    Computer Science\n",
      "            2.    Mathematics\n",
      "            3.    Statistics\n",
      "\n",
      "Students appearing for their final degree examinations in March-May 2022 are also eligible to apply. Applicants who are in the last year of their studies should have secured 50% or above aggregate in all the Semesters / Years of Undergraduate Examinations conducted so far.\n"
     ]
    }
   ],
   "source": [
    "print(mds)"
   ]
  },
  {
   "cell_type": "code",
   "execution_count": 153,
   "id": "5667f6c9-5ba7-45e5-b1ba-c3b96f3c1c3a",
   "metadata": {},
   "outputs": [
    {
     "name": "stdout",
     "output_type": "stream",
     "text": [
      "A candidate who has passed an Undergraduate degree in BCA/Science with70% aggregate marks from any recognised University in India or abroad recognised by UGC / AIU is eligible to apply.\n",
      "\n",
      "Students must fulfill either criteria A or B described below in order to be eligible for the course:\n",
      "\n",
      "     A. Bachelor of Computer Applications (BCA).\n",
      "\n",
      "OR\n",
      "\n",
      "     B. Under Graduate degree in Science with any two of the following subjects as major or minor:\n",
      "\n",
      "            1.    Computer Science\n",
      "            2.    Mathematics\n",
      "            3.    Statistics\n",
      "\n",
      "Students appearing for their final degree examinations in March-May 2022 are also eligible to apply. Applicants who are in the last year of their studies should have secured 70% or above aggregate in all the Semesters / Years of Undergraduate Examinations conducted so far.\n"
     ]
    }
   ],
   "source": [
    "mds=aggr.sub('70%', mds)\n",
    "print(mds)"
   ]
  },
  {
   "cell_type": "code",
   "execution_count": 154,
   "id": "3a426371-b136-4752-b15b-3487124746a1",
   "metadata": {},
   "outputs": [],
   "source": [
    "keyword=\"eligible\"\n",
    "before_keyword, keyword, after_keyword = mds.partition(keyword)"
   ]
  },
  {
   "cell_type": "code",
   "execution_count": 155,
   "id": "d06c046e-0003-4478-84b4-3e060f98b82d",
   "metadata": {},
   "outputs": [
    {
     "data": {
      "text/plain": [
       "['BCA']"
      ]
     },
     "execution_count": 155,
     "metadata": {},
     "output_type": "execute_result"
    }
   ],
   "source": [
    "mdslist=[]\n",
    "mdslist=re.findall(r\"B[A-Z]+\\b\",after_keyword)\n",
    "mdslist"
   ]
  },
  {
   "cell_type": "code",
   "execution_count": 156,
   "id": "c1190bde-82be-4f3b-ac2f-70c361ea9f4f",
   "metadata": {},
   "outputs": [
    {
     "data": {
      "text/plain": [
       "['1.    Computer Science', '2.    Mathematics', '3.    Statistics']"
      ]
     },
     "execution_count": 156,
     "metadata": {},
     "output_type": "execute_result"
    }
   ],
   "source": [
    "course=re.findall(r\"\\d[.].*\",after_keyword)\n",
    "course"
   ]
  },
  {
   "cell_type": "code",
   "execution_count": 157,
   "id": "783978fa-bc11-4107-97f6-b6db3bd694cc",
   "metadata": {},
   "outputs": [],
   "source": [
    "for i in range (len(course)):\n",
    "        courses = course[i]\n",
    "        courses = re.findall(r'[a-zA-Z]+', courses)\n",
    "        course[i] = \"Bsc(\" + courses[0] + \")\""
   ]
  },
  {
   "cell_type": "code",
   "execution_count": 158,
   "id": "b071725e-407f-4562-ba53-a6512001cdf1",
   "metadata": {},
   "outputs": [
    {
     "data": {
      "text/plain": [
       "['Bsc(Computer)', 'Bsc(Mathematics)', 'Bsc(Statistics)']"
      ]
     },
     "execution_count": 158,
     "metadata": {},
     "output_type": "execute_result"
    }
   ],
   "source": [
    "course"
   ]
  },
  {
   "cell_type": "code",
   "execution_count": 159,
   "id": "4ce5e9ce-1cb5-4865-b08b-e8080162bc18",
   "metadata": {},
   "outputs": [
    {
     "data": {
      "text/plain": [
       "['BCA', 'Bsc(Computer)', 'Bsc(Mathematics)', 'Bsc(Statistics)']"
      ]
     },
     "execution_count": 159,
     "metadata": {},
     "output_type": "execute_result"
    }
   ],
   "source": [
    "for i in range(len(course)):\n",
    "    mdslist.append(course[i])\n",
    "mdslist"
   ]
  },
  {
   "cell_type": "code",
   "execution_count": 161,
   "id": "e6f6d192-7415-4a37-96e9-00e9fac6a4f2",
   "metadata": {},
   "outputs": [
    {
     "data": {
      "text/plain": [
       "'\\n'"
      ]
     },
     "execution_count": 161,
     "metadata": {},
     "output_type": "execute_result"
    }
   ],
   "source": [
    "\"\"\"\n",
    "\"\"\"\n",
    "\"\"\"\n",
    "STATISTICS\n",
    "\"\"\"\n",
    "\"\"\"\n",
    "\"\"\""
   ]
  },
  {
   "cell_type": "code",
   "execution_count": 162,
   "id": "987ed43c-145a-4e4e-9d36-e0a4e7fc5efb",
   "metadata": {},
   "outputs": [
    {
     "name": "stdout",
     "output_type": "stream",
     "text": [
      "Candidates who have passed the Undergraduate degree examination with 50 % aggregate marks and (minimum of 50% in Statistics and Mathematics as major or minor subjects) from any recognised University in India or abroad recognised by UGC / AIU are eligible to apply.\n",
      " \n",
      "Students appearing for their final degree examinations in March-May 2022 are also eligible to apply. Applicants who are in the last year of their studies should have secured 50% or above aggregate in all the Semesters / Years of Undergraduate Examinations conducted so far and 50% of marks in (Statistics and Mathematics as major or minor subjects).\n"
     ]
    }
   ],
   "source": [
    "print(stats)"
   ]
  },
  {
   "cell_type": "code",
   "execution_count": 188,
   "id": "a37c505d-b978-4eb9-9793-7c308cbc908b",
   "metadata": {},
   "outputs": [
    {
     "data": {
      "text/plain": [
       "['Statistics', 'Mathematics']"
      ]
     },
     "execution_count": 188,
     "metadata": {},
     "output_type": "execute_result"
    }
   ],
   "source": [
    "courses = re.findall(r'\\(([A-Za-z ]+)\\).',stats)\n",
    "string=courses[0]\n",
    "statlist=re.findall(r'\\b[A-Z]\\w*',string)\n",
    "statlist"
   ]
  },
  {
   "cell_type": "code",
   "execution_count": 194,
   "id": "d42c4e3f-71cb-4cf9-b4d0-c5d7091f256e",
   "metadata": {},
   "outputs": [],
   "source": [
    "for i in range(len(statlist)):\n",
    "    b=statlist[i]\n",
    "    statlist[i]=\"BSc(\"+str(b)+\")\""
   ]
  },
  {
   "cell_type": "code",
   "execution_count": 195,
   "id": "e6478349-f7e5-488a-b66f-474f1da357f7",
   "metadata": {},
   "outputs": [
    {
     "data": {
      "text/plain": [
       "['BSc(Statistics)', 'BSc(Mathematics)']"
      ]
     },
     "execution_count": 195,
     "metadata": {},
     "output_type": "execute_result"
    }
   ],
   "source": [
    "statlist"
   ]
  },
  {
   "cell_type": "code",
   "execution_count": 196,
   "id": "39a84db7-10d1-4882-a123-3dc24ea67122",
   "metadata": {},
   "outputs": [
    {
     "data": {
      "text/plain": [
       "'\\n'"
      ]
     },
     "execution_count": 196,
     "metadata": {},
     "output_type": "execute_result"
    }
   ],
   "source": [
    "\"\"\"\n",
    "\"\"\"\n",
    "\"\"\"\n",
    "MCA\n",
    "\"\"\"\n",
    "\"\"\"\n",
    "\"\"\""
   ]
  },
  {
   "cell_type": "code",
   "execution_count": 198,
   "id": "c741453b-dbc2-4b2b-bdd2-7e66419994ac",
   "metadata": {},
   "outputs": [
    {
     "name": "stdout",
     "output_type": "stream",
     "text": [
      "Candidates who have passed Undergraduate degree with a minimum aggregate of 50% and above, from any recognised University in India or abroad recognised by UGC / AIU, are eligible to apply.\n",
      "\n",
      "Students appearing for their final degree examinations in March-May 2022 are also eligible to apply (Applicants who are in the last year of their studies should have secured 50% or above aggregate in all the Semesters / Years of Undergraduate Examinations conducted so far).\n",
      "\n",
      "Applicants from non-Computer Science should have studied any of the following subjects at the Pre- University or Degree level â€“ Mathematics, Computer Science or Business Mathematics.\n"
     ]
    }
   ],
   "source": [
    "print(mca)"
   ]
  },
  {
   "cell_type": "code",
   "execution_count": 205,
   "id": "0e6b408d-9173-4480-ad40-74779e2b47d6",
   "metadata": {},
   "outputs": [
    {
     "name": "stdout",
     "output_type": "stream",
     "text": [
      "Candidates who have passed Undergraduate degree with a minimum aggregate of 70% and above, from any recognised University in India or abroad recognised by UGC / AIU, are eligible to apply.\n",
      "\n",
      "Students appearing for their final degree examinations in March-May 2022 are also eligible to apply (Applicants who are in the last year of their studies should have secured 70% or above aggregate in all the Semesters / Years of Undergraduate Examinations conducted so far).\n",
      "\n",
      "Applicants from non-Computer Science should have studied any of the following subjects at the Pre- University or Degree level â€“ Mathematics, Computer Science or Business Mathematics.\n"
     ]
    }
   ],
   "source": [
    "mca=aggr.sub('70%', mca)\n",
    "print(mca)"
   ]
  },
  {
   "cell_type": "code",
   "execution_count": 206,
   "id": "33fea704-b831-4114-9b6b-be7f7c61cf94",
   "metadata": {},
   "outputs": [],
   "source": [
    "keyword=\"eligible\"\n",
    "before_keyword, keyword, after_keyword = mca.partition(keyword)"
   ]
  },
  {
   "cell_type": "code",
   "execution_count": 207,
   "id": "c09b9bd8-d783-4c44-a6e8-9b1f2b14f878",
   "metadata": {},
   "outputs": [
    {
     "data": {
      "text/plain": [
       "' to apply.\\n\\nStudents appearing for their final degree examinations in March-May 2022 are also eligible to apply (Applicants who are in the last year of their studies should have secured 70% or above aggregate in all the Semesters / Years of Undergraduate Examinations conducted so far).\\n\\nApplicants from non-Computer Science should have studied any of the following subjects at the Pre- University or Degree level â€“ Mathematics, Computer Science or Business Mathematics.'"
      ]
     },
     "execution_count": 207,
     "metadata": {},
     "output_type": "execute_result"
    }
   ],
   "source": [
    "after_keyword"
   ]
  },
  {
   "cell_type": "code",
   "execution_count": 237,
   "id": "17ac0ea4-b74d-43c0-88b6-272491290b7b",
   "metadata": {},
   "outputs": [],
   "source": [
    "mca_courses=[]"
   ]
  },
  {
   "cell_type": "code",
   "execution_count": 238,
   "id": "876d0b7d-d77f-4dc3-abb2-2a56bc7c6928",
   "metadata": {},
   "outputs": [],
   "source": [
    "mca_courses = re.findall(r'Mathematics|Computer Science|Business Mathematics',after_keyword)"
   ]
  },
  {
   "cell_type": "code",
   "execution_count": 239,
   "id": "03bc08b7-b8ba-483d-b875-9aa390eeafe2",
   "metadata": {},
   "outputs": [
    {
     "data": {
      "text/plain": [
       "['Computer Science', 'Mathematics', 'Computer Science', 'Business Mathematics']"
      ]
     },
     "execution_count": 239,
     "metadata": {},
     "output_type": "execute_result"
    }
   ],
   "source": [
    "mca_courses"
   ]
  },
  {
   "cell_type": "code",
   "execution_count": 241,
   "id": "83db3bb2-a2dd-4104-8823-43c8ce21c401",
   "metadata": {},
   "outputs": [],
   "source": [
    "del mca_courses[0]\n",
    "mcalist=mca_courses"
   ]
  },
  {
   "cell_type": "code",
   "execution_count": 242,
   "id": "f4fc1fd4-f883-4a61-bb6f-2ac017737f93",
   "metadata": {},
   "outputs": [
    {
     "data": {
      "text/plain": [
       "['Mathematics', 'Computer Science', 'Business Mathematics']"
      ]
     },
     "execution_count": 242,
     "metadata": {},
     "output_type": "execute_result"
    }
   ],
   "source": [
    "mcalist"
   ]
  },
  {
   "cell_type": "code",
   "execution_count": 243,
   "id": "a06dbd69-83bc-46db-bd00-0f10178050fc",
   "metadata": {},
   "outputs": [],
   "source": [
    "for i in range(len(mcalist)):\n",
    "    b=mcalist[i]\n",
    "    mcalist[i]=\"PU/BSc(\"+str(b)+\")\""
   ]
  },
  {
   "cell_type": "code",
   "execution_count": 244,
   "id": "96f69de8-a224-4502-b5f0-46118ff7bd07",
   "metadata": {},
   "outputs": [
    {
     "data": {
      "text/plain": [
       "['PU/BSc(Mathematics)',\n",
       " 'PU/BSc(Computer Science)',\n",
       " 'PU/BSc(Business Mathematics)']"
      ]
     },
     "execution_count": 244,
     "metadata": {},
     "output_type": "execute_result"
    }
   ],
   "source": [
    "mcalist"
   ]
  },
  {
   "cell_type": "code",
   "execution_count": null,
   "id": "a1038b5b-5eef-44dd-9ead-eb514d65488d",
   "metadata": {},
   "outputs": [],
   "source": [
    "\"\"\"\n",
    "Creating a Data-Frame\n",
    "\n",
    "\"\"\""
   ]
  },
  {
   "cell_type": "code",
   "execution_count": 246,
   "id": "2f4fe47a-c056-4556-b1e8-63f4dad13fe4",
   "metadata": {},
   "outputs": [
    {
     "name": "stdout",
     "output_type": "stream",
     "text": [
      "Collecting pandas\n",
      "  Downloading pandas-1.4.3-cp310-cp310-win_amd64.whl (10.5 MB)\n",
      "     -------------------------------------- 10.5/10.5 MB 372.2 kB/s eta 0:00:00\n",
      "Requirement already satisfied: pytz>=2020.1 in c:\\users\\shivam\\appdata\\local\\programs\\python\\python310\\lib\\site-packages (from pandas) (2022.1)\n",
      "Requirement already satisfied: numpy>=1.21.0 in c:\\users\\shivam\\appdata\\local\\programs\\python\\python310\\lib\\site-packages (from pandas) (1.23.1)\n",
      "Requirement already satisfied: python-dateutil>=2.8.1 in c:\\users\\shivam\\appdata\\local\\programs\\python\\python310\\lib\\site-packages (from pandas) (2.8.2)\n",
      "Requirement already satisfied: six>=1.5 in c:\\users\\shivam\\appdata\\local\\programs\\python\\python310\\lib\\site-packages (from python-dateutil>=2.8.1->pandas) (1.16.0)\n",
      "Installing collected packages: pandas\n",
      "Successfully installed pandas-1.4.3\n"
     ]
    }
   ],
   "source": [
    "!pip install pandas"
   ]
  },
  {
   "cell_type": "code",
   "execution_count": 251,
   "id": "e7d91e49-64ca-44ef-aaae-c3a43db0f9ce",
   "metadata": {},
   "outputs": [],
   "source": [
    "data = {'Course Name':[], 'Eligibility':[], 'Percentage':[]}"
   ]
  },
  {
   "cell_type": "code",
   "execution_count": 255,
   "id": "5a6d7138-03fe-4f24-aa68-d8d34b62b693",
   "metadata": {},
   "outputs": [
    {
     "data": {
      "text/html": [
       "<div>\n",
       "<style scoped>\n",
       "    .dataframe tbody tr th:only-of-type {\n",
       "        vertical-align: middle;\n",
       "    }\n",
       "\n",
       "    .dataframe tbody tr th {\n",
       "        vertical-align: top;\n",
       "    }\n",
       "\n",
       "    .dataframe thead th {\n",
       "        text-align: right;\n",
       "    }\n",
       "</style>\n",
       "<table border=\"1\" class=\"dataframe\">\n",
       "  <thead>\n",
       "    <tr style=\"text-align: right;\">\n",
       "      <th></th>\n",
       "      <th>Course Name</th>\n",
       "      <th>Eligibility</th>\n",
       "      <th>Percentage</th>\n",
       "    </tr>\n",
       "  </thead>\n",
       "  <tbody>\n",
       "  </tbody>\n",
       "</table>\n",
       "</div>"
      ],
      "text/plain": [
       "Empty DataFrame\n",
       "Columns: [Course Name, Eligibility, Percentage]\n",
       "Index: []"
      ]
     },
     "execution_count": 255,
     "metadata": {},
     "output_type": "execute_result"
    }
   ],
   "source": [
    "import pandas as pd\n",
    "data = {'Course Name':[], 'Eligibility':[], 'Percentage':[]}\n",
    "df = pd.DataFrame(data)\n",
    "df"
   ]
  },
  {
   "cell_type": "code",
   "execution_count": 258,
   "id": "28e6f0fd-027e-4008-9f2a-e3b7eb21e44a",
   "metadata": {},
   "outputs": [],
   "source": [
    "eligibility=[dalist,mcalist,mdslist,statlist]"
   ]
  },
  {
   "cell_type": "code",
   "execution_count": 261,
   "id": "abedad1b-be19-4524-9c1d-d40b88cb3124",
   "metadata": {},
   "outputs": [
    {
     "data": {
      "text/html": [
       "<div>\n",
       "<style scoped>\n",
       "    .dataframe tbody tr th:only-of-type {\n",
       "        vertical-align: middle;\n",
       "    }\n",
       "\n",
       "    .dataframe tbody tr th {\n",
       "        vertical-align: top;\n",
       "    }\n",
       "\n",
       "    .dataframe thead th {\n",
       "        text-align: right;\n",
       "    }\n",
       "</style>\n",
       "<table border=\"1\" class=\"dataframe\">\n",
       "  <thead>\n",
       "    <tr style=\"text-align: right;\">\n",
       "      <th></th>\n",
       "      <th>Course Name</th>\n",
       "      <th>Eligibility</th>\n",
       "      <th>Percentage</th>\n",
       "    </tr>\n",
       "  </thead>\n",
       "  <tbody>\n",
       "    <tr>\n",
       "      <th>0</th>\n",
       "      <td>MDA</td>\n",
       "      <td>[BSc, BE, B.Tech(Mathematics), BCom, BBA(Busin...</td>\n",
       "      <td>70%</td>\n",
       "    </tr>\n",
       "    <tr>\n",
       "      <th>1</th>\n",
       "      <td>MCA</td>\n",
       "      <td>[PU/BSc(Mathematics), PU/BSc(Computer Science)...</td>\n",
       "      <td>70%</td>\n",
       "    </tr>\n",
       "    <tr>\n",
       "      <th>2</th>\n",
       "      <td>MDS</td>\n",
       "      <td>[BCA, Bsc(Computer), Bsc(Mathematics), Bsc(Sta...</td>\n",
       "      <td>70%</td>\n",
       "    </tr>\n",
       "    <tr>\n",
       "      <th>3</th>\n",
       "      <td>MSTAT</td>\n",
       "      <td>[BSc(Statistics), BSc(Mathematics)]</td>\n",
       "      <td>70%</td>\n",
       "    </tr>\n",
       "  </tbody>\n",
       "</table>\n",
       "</div>"
      ],
      "text/plain": [
       "  Course Name                                        Eligibility Percentage\n",
       "0         MDA  [BSc, BE, B.Tech(Mathematics), BCom, BBA(Busin...        70%\n",
       "1         MCA  [PU/BSc(Mathematics), PU/BSc(Computer Science)...        70%\n",
       "2         MDS  [BCA, Bsc(Computer), Bsc(Mathematics), Bsc(Sta...        70%\n",
       "3       MSTAT                [BSc(Statistics), BSc(Mathematics)]        70%"
      ]
     },
     "execution_count": 261,
     "metadata": {},
     "output_type": "execute_result"
    }
   ],
   "source": [
    "df['Course Name'] = course_name\n",
    "df['Eligibility']= eligibility\n",
    "df['Percentage']=\"70%\"\n",
    "df"
   ]
  },
  {
   "cell_type": "code",
   "execution_count": null,
   "id": "6483f467-6034-46c3-a848-dadfbb319444",
   "metadata": {},
   "outputs": [],
   "source": []
  }
 ],
 "metadata": {
  "kernelspec": {
   "display_name": "Python 3 (ipykernel)",
   "language": "python",
   "name": "python3"
  },
  "language_info": {
   "codemirror_mode": {
    "name": "ipython",
    "version": 3
   },
   "file_extension": ".py",
   "mimetype": "text/x-python",
   "name": "python",
   "nbconvert_exporter": "python",
   "pygments_lexer": "ipython3",
   "version": "3.10.5"
  }
 },
 "nbformat": 4,
 "nbformat_minor": 5
}
